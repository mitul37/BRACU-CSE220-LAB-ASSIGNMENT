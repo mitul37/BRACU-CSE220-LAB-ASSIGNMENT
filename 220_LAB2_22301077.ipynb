{
  "cells": [
    {
      "cell_type": "code",
      "execution_count": 2,
      "metadata": {
        "id": "Idmd2Tq1dCbp"
      },
      "outputs": [
        {
          "name": "stdout",
          "output_type": "stream",
          "text": [
            "Requirement already satisfied: fhm-unittest in c:\\users\\mitul\\appdata\\local\\programs\\python\\python312\\lib\\site-packages (1.0.1)\n"
          ]
        },
        {
          "name": "stderr",
          "output_type": "stream",
          "text": [
            "\n",
            "[notice] A new release of pip is available: 23.3.1 -> 24.0\n",
            "[notice] To update, run: python.exe -m pip install --upgrade pip\n"
          ]
        },
        {
          "name": "stdout",
          "output_type": "stream",
          "text": [
            "Requirement already satisfied: fuzzywuzzy in c:\\users\\mitul\\appdata\\local\\programs\\python\\python312\\lib\\site-packages (0.18.0)\n"
          ]
        },
        {
          "name": "stderr",
          "output_type": "stream",
          "text": [
            "\n",
            "[notice] A new release of pip is available: 23.3.1 -> 24.0\n",
            "[notice] To update, run: python.exe -m pip install --upgrade pip\n"
          ]
        }
      ],
      "source": [
        "# You must run this cell to install dependency\n",
        "! pip3 install fhm-unittest\n",
        "! pip3 install fuzzywuzzy\n",
        "import fhm_unittest as unittest\n",
        "import numpy as np"
      ]
    },
    {
      "cell_type": "code",
      "execution_count": 3,
      "metadata": {
        "id": "8fJsXKBfdTyA"
      },
      "outputs": [],
      "source": [
        "#You must run this cell to print matrix and for the driver code to work\n",
        "def print_matrix(m):\n",
        "  row,col = m.shape\n",
        "  for i in range(row):\n",
        "    c = 1\n",
        "    print('|', end='')\n",
        "    for j in range(col):\n",
        "      c += 1\n",
        "      if(len(str(m[i][j])) == 1):\n",
        "        print(' ',m[i][j], end = '  |')\n",
        "        c += 6\n",
        "      else:\n",
        "        print(' ',m[i][j], end = ' |')\n",
        "        c += 6\n",
        "    print()\n",
        "    print('-'*(c-col))\n",
        "\n"
      ]
    },
    {
      "cell_type": "markdown",
      "metadata": {
        "id": "bPtgo9m-d0D3"
      },
      "source": [
        "Task 1: Zigzag Walk"
      ]
    },
    {
      "cell_type": "code",
      "execution_count": 17,
      "metadata": {
        "id": "t258US3qdYJA"
      },
      "outputs": [
        {
          "name": "stdout",
          "output_type": "stream",
          "text": [
            "|  3  |  8  |  4  |  6  |  1  |\n",
            "-------------------------------\n",
            "|  7  |  2  |  1  |  9  |  3  |\n",
            "-------------------------------\n",
            "|  9  |  0  |  7  |  5  |  8  |\n",
            "-------------------------------\n",
            "|  2  |  1  |  3  |  4  |  0  |\n",
            "-------------------------------\n",
            "|  1  |  4  |  2  |  8  |  6  |\n",
            "-------------------------------\n",
            "Walking Sequence:\n",
            "3 9 1 \n",
            "1 2 \n",
            "4 7 2 \n",
            "4 9 \n",
            "1 8 6 \n",
            "################\n",
            "|  3  |  8  |  4  |  6  |  1  |\n",
            "-------------------------------\n",
            "|  7  |  2  |  1  |  9  |  3  |\n",
            "-------------------------------\n",
            "|  9  |  0  |  7  |  5  |  8  |\n",
            "-------------------------------\n",
            "|  2  |  1  |  3  |  4  |  0  |\n",
            "-------------------------------\n",
            "Walking Sequence:\n",
            "3 9 \n",
            "1 2 \n",
            "4 7 \n",
            "4 9 \n",
            "1 8 \n"
          ]
        }
      ],
      "source": [
        "def walk_zigzag(floor):\n",
        "  row,col = floor.shape\n",
        "  count = 0\n",
        "\n",
        "  for i in range(col):\n",
        "    if i % 2 == 0:\n",
        "      for j in range(count,row,2):\n",
        "        print(floor[j][i], end=' ')\n",
        "        count = row - 2\n",
        "      print()\n",
        "    else:\n",
        "      if row % 2 != 0:\n",
        "        for j in range(count,-1,-2):\n",
        "          print(floor[j][i], end=' ')\n",
        "          count = 0\n",
        "        print()\n",
        "\n",
        "      else:\n",
        "        count = row - 1\n",
        "        for j in range(count, 0 , -2):\n",
        "          print(floor[j][i], end=' ')\n",
        "        print()\n",
        "        count = 0\n",
        "\n",
        "\n",
        "floor = np.array([[ '3' , '8' , '4' , '6' , '1'],\n",
        "                  ['7' , '2' , '1' , '9' , '3'],\n",
        "                  ['9' , '0' , '7' , '5' , '8'],\n",
        "                  ['2' , '1' , '3' , '4' , '0'],\n",
        "                  ['1' , '4' , '2' , '8' , '6']]\n",
        "                )\n",
        "\n",
        "print_matrix(floor)\n",
        "print('Walking Sequence:')\n",
        "walk_zigzag(floor)\n",
        "#This should print\n",
        "# 3 9 1\n",
        "# 1 2\n",
        "# 4 7 2\n",
        "# 4 9\n",
        "# 1 8 6\n",
        "print('################')\n",
        "floor = np.array([[ '3' , '8' , '4' , '6' , '1'],\n",
        "                  ['7' , '2' , '1' , '9' , '3'],\n",
        "                  ['9' , '0' , '7' , '5' , '8'],\n",
        "                  ['2' , '1' , '3' , '4' , '0']]\n",
        "                )\n",
        "\n",
        "print_matrix(floor)\n",
        "print('Walking Sequence:')\n",
        "walk_zigzag(floor)\n",
        "#This should print\n",
        "# 3 9\n",
        "# 1 2\n",
        "# 4 7\n",
        "# 4 9\n",
        "# 1 8"
      ]
    },
    {
      "cell_type": "markdown",
      "metadata": {
        "id": "pqub59w9du-g"
      },
      "source": [
        "Task 2: Row Rotation Policy of BRACU Classroom"
      ]
    },
    {
      "cell_type": "code",
      "execution_count": 14,
      "metadata": {
        "id": "rChTGTHQdepv"
      },
      "outputs": [
        {
          "name": "stdout",
          "output_type": "stream",
          "text": [
            "|  A  |  B  |  C  |  D  |  E  |\n",
            "-------------------------------\n",
            "|  F  |  G  |  H  |  I  |  J  |\n",
            "-------------------------------\n",
            "|  K  |  L  |  M  |  N  |  O  |\n",
            "-------------------------------\n",
            "|  P  |  Q  |  R  |  S  |  T  |\n",
            "-------------------------------\n",
            "|  U  |  V  |  W  |  X  |  Y  |\n",
            "-------------------------------\n",
            "|  Z  |  AA |  BB |  CC |  DD |\n",
            "-------------------------------\n",
            "\n",
            "[['Z' 'AA' 'BB' 'CC' 'DD']\n",
            " ['A' 'B' 'C' 'D' 'E']\n",
            " ['F' 'G' 'H' 'I' 'J']\n",
            " ['K' 'L' 'M' 'N' 'O']\n",
            " ['P' 'Q' 'R' 'S' 'T']\n",
            " ['U' 'V' 'W' 'X' 'Y']]\n",
            "Your friend AA will be on row 1\n"
          ]
        }
      ],
      "source": [
        "def row_rotation(exam_week, seat_status):\n",
        "  exam_week-=1\n",
        "  rows,cols=seat_status.shape\n",
        "  for i in range(rows):\n",
        "    for j in range(cols):\n",
        "      if seat_status[i][j]==\"AA\":\n",
        "        new_seat=i\n",
        "        break\n",
        "\n",
        "\n",
        "  f_seat=(new_seat+exam_week)%(rows-1)\n",
        "  for i in range(exam_week):\n",
        "    for j in range(rows-1,0,-1):\n",
        "      arry=seat_status[j].copy()\n",
        "      seat_status[j]=seat_status[j-1]\n",
        "      seat_status[j-1]=arry\n",
        "\n",
        "  print(seat_status)\n",
        "  return  f_seat\n",
        "\n",
        "\n",
        "seat_status = np.array([[ 'A' , 'B' , 'C' , 'D' , 'E'],\n",
        "                  ['F' , 'G' , 'H' , 'I' , 'J'],\n",
        "                  ['K' , 'L' , 'M' , 'N' , 'O'],\n",
        "                  ['P' , 'Q' , 'R' , 'S' , 'T'],\n",
        "                  ['U' , 'V' , 'W' , 'X' , 'Y'],\n",
        "                  ['Z' , 'AA' , 'BB' , 'CC' , 'DD']])\n",
        "exam_week=2\n",
        "print_matrix(seat_status)\n",
        "print()\n",
        "row_number=row_rotation(exam_week, seat_status) #This should print modified seat status after rotation\n",
        "print(f'Your friend AA will be on row {row_number}') #This should print Your friend AA will be on row 2"
      ]
    },
    {
      "cell_type": "markdown",
      "metadata": {
        "id": "nbt_Gzv0fBtX"
      },
      "source": [
        "Task 3: Matrix Manipulation"
      ]
    },
    {
      "cell_type": "code",
      "execution_count": 10,
      "metadata": {
        "id": "kger_tJ7fDwW"
      },
      "outputs": [
        {
          "name": "stdout",
          "output_type": "stream",
          "text": [
            "|  14 |  8  |  0  |  4  |\n",
            "-------------------------\n",
            "|  9  |  8  |  13 |  13 |\n",
            "-------------------------\n",
            "|  9  |  3  |  1  |  4  |\n",
            "-------------------------\n",
            "|  2  |  10 |  13 |  6  |\n",
            "-------------------------\n",
            "################\n",
            "\n",
            "|  6  |  13 |  10 |  2  |\n",
            "-------------------------\n",
            "|  4  |  1  |  3  |  9  |\n",
            "-------------------------\n",
            "|  13 |  13 |  8  |  9  |\n",
            "-------------------------\n",
            "|  4  |  0  |  8  |  14 |\n",
            "-------------------------\n"
          ]
        }
      ],
      "source": [
        "def reverse_Matrix(matrix):\n",
        "    \n",
        "   ''' n = len(matrix)\n",
        "    reversed_matrix = np.zeros((n, n), dtype=matrix.dtype)\n",
        "    for i in range(n):\n",
        "        reversed_matrix[i,:: -1] = matrix[n - 1 - i, :]\n",
        "    \n",
        "    return reversed_matrix''' # USE INDEXING METHOD \n",
        "   rows,cols=matrix.shape\n",
        "   arry_rev = np.zeros((rows, cols), dtype=matrix.dtype)\n",
        "   for i in range(rows):\n",
        "        for j in range(cols):\n",
        "            arry_rev[i, j] = matrix[rows - i - 1, cols - j - 1]\n",
        "\n",
        "   return arry_rev\n",
        "      \n",
        "\n",
        "matrix = np.array([\n",
        "[14,  8,  0,  4],\n",
        "[9,  8,  13,  13],\n",
        "[9,  3,  1,  4],\n",
        "[2,  10,  13,  6]\n",
        "])\n",
        "print_matrix(matrix)\n",
        "print('################')\n",
        "print()\n",
        "reversed_matrix = reverse_Matrix(matrix)\n",
        "print_matrix(reversed_matrix)\n",
        "\n",
        "#This should print\n",
        "#|  6  |  13 |  10 |  2  |\n",
        "#-------------------------\n",
        "#|  4  |  1  |  3  |  9  |\n",
        "#-------------------------\n",
        "#|  13  |  13  |  8 |  9 |\n",
        "#-------------------------\n",
        "#|  4 |  0  |  8  |  14  |\n",
        "#-------------------------\n"
      ]
    },
    {
      "cell_type": "markdown",
      "metadata": {
        "id": "b0wfGjWyftxX"
      },
      "source": [
        "Task 4: Chess Piece"
      ]
    },
    {
      "cell_type": "code",
      "execution_count": 13,
      "metadata": {
        "id": "FSrQG6Jpfzo3"
      },
      "outputs": [
        {
          "name": "stdout",
          "output_type": "stream",
          "text": [
            "|  0  |  0  |  0  |  0  |  0  |  0  |  0  |  0  |\n",
            "-------------------------------------------------\n",
            "|  0  |  0  |  0  |  3  |  0  |  3  |  0  |  0  |\n",
            "-------------------------------------------------\n",
            "|  0  |  0  |  3  |  0  |  0  |  0  |  3  |  0  |\n",
            "-------------------------------------------------\n",
            "|  0  |  0  |  0  |  0  |  66 |  0  |  0  |  0  |\n",
            "-------------------------------------------------\n",
            "|  0  |  0  |  3  |  0  |  0  |  0  |  3  |  0  |\n",
            "-------------------------------------------------\n",
            "|  0  |  0  |  0  |  3  |  0  |  3  |  0  |  0  |\n",
            "-------------------------------------------------\n",
            "|  0  |  0  |  0  |  0  |  0  |  0  |  0  |  0  |\n",
            "-------------------------------------------------\n",
            "|  0  |  0  |  0  |  0  |  0  |  0  |  0  |  0  |\n",
            "-------------------------------------------------\n"
          ]
        },
        {
          "data": {
            "text/plain": [
              "'board = np.zeros((8,8),dtype=int)\\n  moves = [\\n        (-2, -1), (-2, 1),\\n        (-1, -2), (-1, 2),\\n        (1, -2), (1, 2),\\n        (2, -1), (2, 1)\\n    ]\\n  x,y = knight\\n  board[x][y] = 66\\n  \\n  for move in moves:\\n        new_x, new_y = x + move[0], y + move[1]\\n        if 0 <= new_x < 8 and 0 <= new_y < 8:\\n            board[new_x][new_y] = 3\\n  return'"
            ]
          },
          "execution_count": 13,
          "metadata": {},
          "output_type": "execute_result"
        }
      ],
      "source": [
        "def show_knight_move(knight):\n",
        "  arry_move=np.zeros((8,8),dtype=int)\n",
        "  arry_move[knight[0]][knight[1]]=66\n",
        "  i,j=knight\n",
        "  a=np.array([[1,2],[1,-2],[2,1],[2,-1],[-2,1],[-2,-1],[-1,2],[-1,-2]])\n",
        "  for k in a:\n",
        "    if -1<i+k[0]<8 and -1<j+k[1]<8:\n",
        "      arry_move[i+k[0]][j+k[1]]=3\n",
        "  return arry_move\n",
        "\n",
        "\n",
        "knight = (3,4)\n",
        "chess_board = show_knight_move(knight)\n",
        "print_matrix(chess_board)\n",
        "'''board = np.zeros((8,8),dtype=int)\n",
        "  moves = [\n",
        "        (-2, -1), (-2, 1),\n",
        "        (-1, -2), (-1, 2),\n",
        "        (1, -2), (1, 2),\n",
        "        (2, -1), (2, 1)\n",
        "    ]\n",
        "  x,y = knight\n",
        "  board[x][y] = 66\n",
        "  \n",
        "  for move in moves:\n",
        "        new_x, new_y = x + move[0], y + move[1]\n",
        "        if 0 <= new_x < 8 and 0 <= new_y < 8:\n",
        "            board[new_x][new_y] = 3\n",
        "  return''' \n",
        "\n",
        "#This Should print\n",
        "#| 0 | 0 | 0 | 0 | 0 | 0 | 0 | 0 |\n",
        "#------------------------------------------\n",
        "#| 0 | 0 | 0 | 3 | 0 | 3 | 0 | 0 |\n",
        "#------------------------------------------\n",
        "#| 0 | 0 | 3 | 0 | 0 | 0 | 3 | 0 |\n",
        "#------------------------------------------\n",
        "#| 0 | 0 | 0 | 0 | 66 | 0 | 0 | 0 |\n",
        "#------------------------------------------\n",
        "#| 0 | 0 | 3 | 0 | 0 | 0 | 3 | 0 |\n",
        "#------------------------------------------\n",
        "#| 0 | 0 | 0 | 3 | 0 | 3 | 0 | 0 |\n",
        "#------------------------------------------\n",
        "#| 0 | 0 | 0 | 0 | 0 | 0 | 0 | 0 |\n",
        "#------------------------------------------\n",
        "#| 0 | 0 | 0 | 0 | 0 | 0 | 0 | 0 |\n",
        "#-----------------------------------------"
      ]
    },
    {
      "cell_type": "markdown",
      "metadata": {
        "id": "zWd3LAbsGEDS"
      },
      "source": [
        "Task 5: Matrix Compression"
      ]
    },
    {
      "cell_type": "code",
      "execution_count": 14,
      "metadata": {
        "id": "9oIzitXSGJXa"
      },
      "outputs": [
        {
          "name": "stdout",
          "output_type": "stream",
          "text": [
            "|  1  |  2  |  3  |  4  |\n",
            "-------------------------\n",
            "|  5  |  6  |  7  |  8  |\n",
            "-------------------------\n",
            "|  1  |  3  |  5  |  2  |\n",
            "-------------------------\n",
            "|  -2 |  0  |  6  |  -3 |\n",
            "-------------------------\n",
            "################\n",
            "\n",
            "|  14 |  22 |\n",
            "-------------\n",
            "|  2  |  10 |\n",
            "-------------\n"
          ]
        }
      ],
      "source": [
        "def compress_matrix(mat):\n",
        "  row,col=matrix.shape\n",
        "  arry_compress=np.zeros((2,2),dtype=int)\n",
        "  for i in range(row):\n",
        "    for j in range(col):\n",
        "      if i<row//2:\n",
        "        if j<col//2:\n",
        "          arry_compress[0][0]+=matrix[i][j]\n",
        "        else:\n",
        "          arry_compress[0][1]+=matrix[i][j]\n",
        "      else:\n",
        "        if j<col//2:\n",
        "          arry_compress[1][0]+=matrix[i][j]\n",
        "        else:\n",
        "          arry_compress[1][1]+=matrix[i][j]\n",
        "  return arry_compress\n",
        "matrix=np.array([[1,2,3,4],\n",
        "                 [5,6,7,8],\n",
        "                 [1,3,5,2],\n",
        "                 [-2,0,6,-3]\n",
        "                 ])\n",
        "print_matrix(matrix)\n",
        "print('################')\n",
        "print()\n",
        "returned_array=compress_matrix(matrix)\n",
        "print_matrix(returned_array)\n",
        "#This should print\n",
        "#|  14  |  22 |\n",
        "#--------------\n",
        "#|  2  |  10  |\n",
        "#--------------"
      ]
    },
    {
      "cell_type": "markdown",
      "metadata": {
        "id": "AtJGXnG1I687"
      },
      "source": [
        "Task 6: Game Arena"
      ]
    },
    {
      "cell_type": "code",
      "execution_count": 17,
      "metadata": {
        "id": "P5rvZJuWI-GC"
      },
      "outputs": [
        {
          "name": "stdout",
          "output_type": "stream",
          "text": [
            "|  0  |  2  |  2  |  0  |\n",
            "-------------------------\n",
            "|  50 |  1  |  2  |  0  |\n",
            "-------------------------\n",
            "|  2  |  2  |  2  |  0  |\n",
            "-------------------------\n",
            "|  1  |  100 |  2  |  0  |\n",
            "-------------------------\n",
            "Points Gained: 6. Your team is out.\n",
            ".....................\n",
            "|  0  |  2  |  2  |  0  |  2  |\n",
            "-------------------------------\n",
            "|  1  |  50 |  2  |  1  |  100 |\n",
            "-------------------------------\n",
            "|  2  |  2  |  2  |  0  |  2  |\n",
            "-------------------------------\n",
            "|  0  |  200 |  2  |  0  |  0  |\n",
            "-------------------------------\n",
            "Points Gained: 14. Your team has survived the game.\n"
          ]
        }
      ],
      "source": [
        "\"\"\"def play_game(arena):\n",
        "    row, col = arena.shape\n",
        "    total_points = 0\n",
        "    \n",
        "    for i in range(row):\n",
        "        for j in range(col):\n",
        "            if arena[i][j] % 50 == 0:  # Check if the cell contains a player (multiple of 50)\n",
        "                player_points = 0\n",
        "                # Check above cell\n",
        "                if i > 0 and arena[i - 1][j] == 2:\n",
        "                    player_points += 1\n",
        "                # Check below cell\n",
        "                if i < row - 1 and arena[i + 1][j] == 2:\n",
        "                    player_points += 1\n",
        "                # Check left cell\n",
        "                if j > 0 and arena[i][j - 1] == 2:\n",
        "                    player_points += 1\n",
        "                # Check right cell\n",
        "                if j < col - 1 and arena[i][j + 1] == 2:\n",
        "                    player_points += 1\n",
        "                # Add points gained by the player to total points\n",
        "                total_points += player_points * 2\n",
        "    \n",
        "    if total_points >= 10:\n",
        "        print(f\"Points Gained: {total_points}. Your team has survived the game.\")\n",
        "    else:\n",
        "        print(f\"Points Gained: {total_points}. Your team is out.\")\"\"\"\n",
        "def play_game(arena):\n",
        "   c=0\n",
        "   arry_game=np.array([[0,1],[0,-1],[1,0],[-1,0]])\n",
        "   for i in range(len(arena)) :\n",
        "       for j in range(len(arena[0])):\n",
        "           if arena[i][j] >= 50 and arena[i][j]%50==0:\n",
        "             for k in range(len(arry_game)) :\n",
        "               if  i+arry_game[k][0]>=0 and j+arry_game[k][1]>=0 :\n",
        "                 if i+arry_game[k][0]<=len(arena)-1 and j+arry_game[k][1]<=len(arena[0])-1 :\n",
        "\n",
        "                    arry_n=arena[i+arry_game[k][0]][j+arry_game[k][1]]\n",
        "                    if arry_n== 2 :\n",
        "                      c+=2\n",
        "   if c <10:\n",
        "      print(f\"Points Gained: {c}. Your team is out.\")\n",
        "   if c >=10:\n",
        "      print(f\"Points Gained: {c}. Your team has survived the game.\")\n",
        "   return None\n",
        "\n",
        "arena=np.array([[0,2,2,0],\n",
        "                [50,1,2,0],\n",
        "                [2,2,2,0],\n",
        "                [1,100,2,0]\n",
        "                ])\n",
        "print_matrix(arena)\n",
        "play_game(arena)\n",
        "#This should print\n",
        "#Points Gained: 6. Your team is out.\n",
        "\n",
        "print(\".....................\")\n",
        "arena=np.array([[0,2,2,0,2],\n",
        "                [1,50,2,1,100],\n",
        "                [2,2,2,0,2],\n",
        "                [0,200,2,0,0]\n",
        "                ])\n",
        "print_matrix(arena)\n",
        "play_game(arena)\n",
        "#This should print\n",
        "#Points Gained: 14. Your team has survived the game."
      ]
    },
    {
      "cell_type": "markdown",
      "metadata": {
        "id": "svFnEuyNHeKy"
      },
      "source": [
        "Bonus Task: Primary vs Secondary Diagonal"
      ]
    },
    {
      "cell_type": "code",
      "execution_count": 21,
      "metadata": {
        "id": "IgNeWdF1Hjxe"
      },
      "outputs": [
        {
          "name": "stdout",
          "output_type": "stream",
          "text": [
            "NO\n",
            ".............\n",
            "NO\n"
          ]
        }
      ],
      "source": [
        "def check_diagonal(matrix1, matrix2):\n",
        "    n = len(matrix1)\n",
        "    \n",
        "    \n",
        "    diagonal1 = [matrix1[i][n - i - 1] for i in range(n)] # Extracting the secondary diagonal elements from the first array\n",
        "    \n",
        "   \n",
        "    diagonal2 = [matrix2[i][i] for i in range(n)]  # Extracting the primary diagonal elements from the second array\n",
        "    \n",
        "    \n",
        "    if diagonal1 == diagonal2: # Checking if the two diagonals are equal\n",
        "        print(\"YES\")\n",
        "    else:\n",
        "        print(\"NO\")\n",
        "\n",
        "# Sample Input 1\n",
        "array1 = np.array([[0, 4, 1], [7, 2, 5], [3, 6, 0]])\n",
        "array2 = np.array([[3, 6, 0], [5, 2, 7], [0, 4, 1]])\n",
        "\n",
        "check_diagonal(array1, array2)  # This should print YES\n",
        "print(\".............\")\n",
        "\n",
        "# Sample Input 2\n",
        "array1 = np.array([[0, 9, 9, 1], [9, 0, 2, 9], [9, 3, 0, 9], [4, 9, 9, 0]])\n",
        "array2 = np.array([[4, 9, 9, 0], [9, 0, 3, 9], [9, 0, 2, 9], [0, 9, 5, 1]])\n",
        "\n",
        "check_diagonal(array1, array2)  # This should print NO\n"
      ]
    }
  ],
  "metadata": {
    "colab": {
      "provenance": []
    },
    "kernelspec": {
      "display_name": "Python 3",
      "name": "python3"
    },
    "language_info": {
      "codemirror_mode": {
        "name": "ipython",
        "version": 3
      },
      "file_extension": ".py",
      "mimetype": "text/x-python",
      "name": "python",
      "nbconvert_exporter": "python",
      "pygments_lexer": "ipython3",
      "version": "3.12.0"
    }
  },
  "nbformat": 4,
  "nbformat_minor": 0
}
