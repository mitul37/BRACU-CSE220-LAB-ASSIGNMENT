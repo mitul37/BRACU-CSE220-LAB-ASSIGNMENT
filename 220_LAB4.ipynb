{
  "cells": [
    {
      "cell_type": "code",
      "execution_count": 7,
      "metadata": {
        "id": "Pp1R95Pe7ID2"
      },
      "outputs": [
        {
          "name": "stdout",
          "output_type": "stream",
          "text": [
            "Requirement already satisfied: fhm-unittest in c:\\users\\mitul\\appdata\\local\\programs\\python\\python312\\lib\\site-packages (1.0.1)\n"
          ]
        },
        {
          "name": "stderr",
          "output_type": "stream",
          "text": [
            "\n",
            "[notice] A new release of pip is available: 23.3.1 -> 24.0\n",
            "[notice] To update, run: python.exe -m pip install --upgrade pip\n"
          ]
        },
        {
          "name": "stdout",
          "output_type": "stream",
          "text": [
            "Requirement already satisfied: fuzzywuzzy in c:\\users\\mitul\\appdata\\local\\programs\\python\\python312\\lib\\site-packages (0.18.0)\n"
          ]
        },
        {
          "name": "stderr",
          "output_type": "stream",
          "text": [
            "\n",
            "[notice] A new release of pip is available: 23.3.1 -> 24.0\n",
            "[notice] To update, run: python.exe -m pip install --upgrade pip\n"
          ]
        }
      ],
      "source": [
        "# You must run this cell to install dependency\n",
        "! pip3 install fhm-unittest\n",
        "! pip3 install fuzzywuzzy\n",
        "import fhm_unittest as unittest\n",
        "import numpy as np"
      ]
    },
    {
      "cell_type": "markdown",
      "metadata": {
        "id": "A1zD8GyBKEdA"
      },
      "source": [
        "**Assignment Part 1: Doubly Linked List**"
      ]
    },
    {
      "cell_type": "markdown",
      "metadata": {
        "id": "z4q4a-vSNoII"
      },
      "source": [
        "For Assignment Part 1, you should write your full code in the following cells along with your driver codes on your own."
      ]
    },
    {
      "cell_type": "code",
      "execution_count": 14,
      "metadata": {
        "id": "itoWpG7oNziA"
      },
      "outputs": [],
      "source": [
        "#Assignment Part 1\n",
        "\n",
        "class Patient:\n",
        "    def __init__(self, id, name, age, bloodgroup):\n",
        "      self.id = id\n",
        "      self.name = name \n",
        "      self.age = age \n",
        "      self.bloodgroup = bloodgroup\n"
      ]
    },
    {
      "cell_type": "code",
      "execution_count": 17,
      "metadata": {
        "id": "dNx7zTJ1OZNv"
      },
      "outputs": [],
      "source": [
        "class WRM:\n",
        "  def __init__(self):\n",
        "    self.head = None\n",
        "\n",
        "  def registerPatient(self,id, name, age, bloodgroup):\n",
        "    new_patient = Patient(id, name, age, bloodgroup)\n",
        "    if not self.head:\n",
        "      self.head = new_patient\n",
        "      new_patient.next = new_patient\n",
        "      new_patient.prev = new_patient\n",
        "    else:\n",
        "      last_patient = self.head.prev\n",
        "      last_patient.next = new_patient\n",
        "      new_patient.prev = last_patient\n",
        "      new_patient.next = self.head\n",
        "      self.head.prev = new_patient\n",
        "\n",
        "  def servePatient(self):\n",
        "    if not self.head:\n",
        "      print('No Patients to be served')\n",
        "      return\n",
        "    served_patient = self.head\n",
        "    if self.head.next == self.head:\n",
        "      self.head = None\n",
        "    else:\n",
        "      self.head = self.head.next\n",
        "      served_patient.prev.next = self.head\n",
        "      self.head.prev = served_patient.prev\n",
        "    print(f'{served_patient.name}, is served.')\n",
        "\n",
        "\n",
        "  def showAllPatient(self):\n",
        "    if not self.head:\n",
        "      print('No patient in the WRM')\n",
        "      return\n",
        "    current_patient = self.head\n",
        "\n",
        "    while True:\n",
        "      print(current_patient.id,current_patient.name, end=\" \")\n",
        "      current_patient = current_patient.next\n",
        "      if current_patient == self.head:\n",
        "        break\n",
        "\n",
        "  def canDoctorGoHome(self):\n",
        "    if not self.head:\n",
        "      return True\n",
        "    else:\n",
        "      return False\n",
        "\n",
        "  def cancelAll(self):\n",
        "    self.head = None\n",
        "    print(\"All appointments cancelled\")\n",
        "    \n",
        "  def reverseTheLine(self):\n",
        "        if self.head.next == self.head:\n",
        "            print(\"No patients to reverse.\")\n",
        "            return False\n",
        "        else:\n",
        "            current = self.head.next\n",
        "            while current != self.head:\n",
        "                temp = current.next\n",
        "                current.next = current.prev\n",
        "                current.prev = temp\n",
        "                current = current.prev\n",
        "            self.head.next, self.head.prev = self.head.prev, self.head.next\n",
        "            print(\"Line reversed successfully.\")\n",
        "            return True\n",
        "\n",
        "\n"
      ]
    },
    {
      "cell_type": "code",
      "execution_count": null,
      "metadata": {
        "id": "jKhbn1LAPfjr"
      },
      "outputs": [],
      "source": [
        "waiting_room = WRM()\n",
        "print(\"**Welcome to Waiting Room Management System**\")\n",
        "while True:\n",
        "    print(\"\\n == Choose an option ==\")\n",
        "    print(\"1. RegisterPatient()\")\n",
        "    print(\"2. ServePatient()\")\n",
        "    print(\"3. CancelAll()\")\n",
        "    print(\"4. CanDoctorGoHome()\")\n",
        "    print(\"5. ShowAllPatient()\")\n",
        "    print(\"6. Exit\")\n",
        "    print(\"==================\")\n",
        "\n",
        "    choice = int(input(\"Enter your choice: \"))\n",
        "\n",
        "    if choice == 1:\n",
        "        print(\"executing RegisterPatient()...\")\n",
        "        print()\n",
        "        id = int(input(\"Enter ID: \"))\n",
        "        name = input(\"Enter Name: \")\n",
        "        age = int(input(\"Enter Age: \"))\n",
        "        blood_group = input(\"Enter Blood group: \")\n",
        "\n",
        "        waiting_room.registerPatient(id, name, age, blood_group)\n",
        "        print(\"Success registering patient.\")\n",
        "\n",
        "    elif choice == 2:\n",
        "        print(\"executing ServePatient()...\")\n",
        "        print()\n",
        "        waiting_room.servePatient()\n",
        "\n",
        "    elif choice == 3:\n",
        "        print(\"executing CancelAll()...\")\n",
        "        print()\n",
        "        waiting_room.cancelAll()\n",
        "\n",
        "    elif choice == 4:\n",
        "        print(\"executing CanDoctorGoHome()...\")\n",
        "        print()\n",
        "        if waiting_room.canDoctorGoHome():\n",
        "            print(\"Yes.\")\n",
        "        else:\n",
        "            print(\"No.\")\n",
        "\n",
        "    elif choice == 5:\n",
        "        print(\"executing ShowAllPatient()...\")\n",
        "        print()\n",
        "        waiting_room.showAllPatient()\n",
        "\n",
        "    elif choice == 6:\n",
        "        print(\"Reversing The Line for your desire wish!\")\n",
        "        print()\n",
        "        waiting_room.reverseTheLine()\n",
        "        \n",
        "\n",
        "\n",
        "    elif choice == 7:\n",
        "        print(\"Thank you for using Waiting Room Management System.\")\n",
        "        print(\"EXITING...\")\n",
        "        break\n",
        "\n",
        "    else:\n",
        "        print(\"No such option.\")\n",
        "\n"
      ]
    },
    {
      "cell_type": "markdown",
      "metadata": {
        "id": "CJWd_j6YEnPn"
      },
      "source": [
        "**Assignment Part 2: Stack**\n",
        "\n",
        "Linked List based Stack is implemented in the following cell."
      ]
    },
    {
      "cell_type": "code",
      "execution_count": 10,
      "metadata": {
        "id": "KHLhs5x0D-O6"
      },
      "outputs": [],
      "source": [
        "class Node:\n",
        "  def __init__(self,elem=None,next=None):\n",
        "    self.elem = elem\n",
        "    self.next = next\n",
        "\n",
        "class Stack:\n",
        "  def __init__(self):\n",
        "    self.__top = None\n",
        "\n",
        "  def push(self,elem):\n",
        "    nn = Node(elem,self.__top)\n",
        "    self.__top = nn\n",
        "\n",
        "  def pop(self):\n",
        "    if self.__top == None:\n",
        "      #print('Stack Underflow')\n",
        "      return None\n",
        "    e = self.__top\n",
        "    self.__top = self.__top.next\n",
        "    return e.elem\n",
        "\n",
        "  def peek(self):\n",
        "    if self.__top == None:\n",
        "      #print('Stack Underflow')\n",
        "      return None\n",
        "    return self.__top.elem\n",
        "\n",
        "  def isEmpty(self):\n",
        "    return self.__top == None\n"
      ]
    },
    {
      "cell_type": "code",
      "execution_count": 11,
      "metadata": {
        "id": "4XkuMA7gEjE7"
      },
      "outputs": [
        {
          "name": "stdout",
          "output_type": "stream",
          "text": [
            "Peeked Element:  9\n",
            "Popped Element:  9\n",
            "Popped Element:  1\n",
            "Popped Element:  5\n",
            "Peeked Element:  3\n",
            "Popped Element:  3\n",
            "Popped Element:  4\n",
            "Peeked Element:  None\n",
            "Popped Element:  None\n",
            "True\n"
          ]
        }
      ],
      "source": [
        "#You can run this driver code cell to understand the methods of Stack class\n",
        "st = Stack()\n",
        "st.push(4)\n",
        "st.push(3)\n",
        "st.push(5)\n",
        "st.push(1)\n",
        "st.push(9)\n",
        "\n",
        "print('Peeked Element: ',st.peek())\n",
        "print('Popped Element: ',st.pop())\n",
        "print('Popped Element: ',st.pop())\n",
        "print('Popped Element: ',st.pop())\n",
        "print('Peeked Element: ',st.peek())\n",
        "print('Popped Element: ',st.pop())\n",
        "print('Popped Element: ',st.pop())\n",
        "print('Peeked Element: ',st.peek())\n",
        "print('Popped Element: ',st.pop())\n",
        "print(st.isEmpty())"
      ]
    },
    {
      "cell_type": "markdown",
      "metadata": {
        "id": "xrfONLccG9Gi"
      },
      "source": [
        "You can print your stack using this code segment"
      ]
    },
    {
      "cell_type": "code",
      "execution_count": 12,
      "metadata": {
        "id": "S-EembO_GsWA"
      },
      "outputs": [],
      "source": [
        "def print_stack(st):\n",
        "  if st.isEmpty():\n",
        "    return\n",
        "  p = st.pop()\n",
        "  print('|',p,end=' ')\n",
        "  if p<10:\n",
        "    print(' |')\n",
        "  else:\n",
        "    print('|')\n",
        "  #print('------')\n",
        "  print_stack(st)\n",
        "  st.push(p)\n",
        "\n",
        "# st = Stack()\n",
        "# st.push(4)\n",
        "# st.push(3)\n",
        "# st.push(5)\n",
        "# st.push(1)\n",
        "# st.push(9)\n",
        "# print_stack(st)\n",
        "# print('------')"
      ]
    },
    {
      "cell_type": "markdown",
      "metadata": {
        "id": "iNMnfqqpIga2"
      },
      "source": [
        "Task 1: Diamond Count"
      ]
    },
    {
      "cell_type": "code",
      "execution_count": 19,
      "metadata": {
        "id": "GnX70OIvG_gZ"
      },
      "outputs": [
        {
          "name": "stdout",
          "output_type": "stream",
          "text": [
            "Test 01\n",
            "Number of Diamonds: 3\n",
            "Accepted\n",
            "-----------------------------------------\n",
            "Test 02\n",
            "Number of Diamonds: 1\n",
            "Accepted\n",
            "-----------------------------------------\n",
            "Test 03\n",
            "Number of Diamonds: 3\n",
            "Accepted\n",
            "-----------------------------------------\n"
          ]
        }
      ],
      "source": [
        "def diamond_count(stack,string):\n",
        "  count = 0\n",
        "  for char in string:\n",
        "    if char == '<':\n",
        "      stack.push(char)\n",
        "    elif char == '>' and not stack.isEmpty() and stack.peek() == '<':\n",
        "      stack.pop()\n",
        "      count+=1\n",
        "  return count\n",
        "\n",
        "\n",
        "\n",
        "print('Test 01')\n",
        "stack = Stack()\n",
        "string = '<..><.<..>> '\n",
        "returned_value = diamond_count(stack,string)\n",
        "print(f'Number of Diamonds: {returned_value}') #This should print 3\n",
        "unittest.output_test(returned_value, 3)\n",
        "print('-----------------------------------------')\n",
        "\n",
        "\n",
        "print('Test 02')\n",
        "stack = Stack()\n",
        "string = '<<<..<......<<<<....>'\n",
        "returned_value = diamond_count(stack,string)\n",
        "print(f'Number of Diamonds: {returned_value}') #This should print 1\n",
        "unittest.output_test(returned_value, 1)\n",
        "print('-----------------------------------------')\n",
        "\n",
        "\n",
        "print('Test 03')\n",
        "stack = Stack()\n",
        "string = '>>><...<<..>>...>...>>>'\n",
        "returned_value = diamond_count(stack,string)\n",
        "print(f'Number of Diamonds: {returned_value}') #This should print 3\n",
        "unittest.output_test(returned_value, 3)\n",
        "print('-----------------------------------------')"
      ]
    },
    {
      "cell_type": "markdown",
      "metadata": {
        "id": "PhCF3SZ6IX5g"
      },
      "source": [
        "Task 2: Tower of Blocks"
      ]
    },
    {
      "cell_type": "code",
      "execution_count": 13,
      "metadata": {
        "id": "W3N4q7YAHExr"
      },
      "outputs": [
        {
          "name": "stdout",
          "output_type": "stream",
          "text": [
            "Test 01\n",
            "Stack:\n",
            "| 5  |\n",
            "| 17 |\n",
            "| 23 |\n",
            "| 19 |\n",
            "| 4  |\n",
            "------\n",
            "=======\n",
            "| 5  |\n",
            "| 17 |\n",
            "| 19 |\n",
            "| 4  |\n",
            "After Removal\n",
            "| 5  |\n",
            "| 17 |\n",
            "| 19 |\n",
            "| 4  |\n",
            "------\n",
            "\n",
            "======================================\n",
            "\n",
            "Test 02\n",
            "Stack:\n",
            "| 41 |\n",
            "| 15 |\n",
            "| 85 |\n",
            "| 73 |\n",
            "------\n",
            "=======\n",
            "| 41 |\n",
            "| 15 |\n",
            "| 73 |\n",
            "After Removal\n",
            "| 41 |\n",
            "| 15 |\n",
            "| 73 |\n",
            "------\n",
            "\n",
            "======================================\n",
            "\n"
          ]
        }
      ],
      "source": [
        "def remove_block(stack, n):\n",
        "    temp_stact = Stack()\n",
        "    count = 1\n",
        "\n",
        "    while count < n:\n",
        "        temp_stact.push(stack.pop())\n",
        "        count+=1\n",
        "\n",
        "    stack.pop()\n",
        "\n",
        "\n",
        "    while not temp_stact.isEmpty():\n",
        "        stack.push(temp_stact.pop())\n",
        "\n",
        "print('Test 01')\n",
        "st = Stack()\n",
        "st.push(4)\n",
        "st.push(19)\n",
        "st.push(23)\n",
        "st.push(17)\n",
        "st.push(5)\n",
        "print('Stack:')\n",
        "print_stack(st)\n",
        "print('------')\n",
        "remove_block(st,3)\n",
        "print('After Removal')\n",
        "print_stack(st)\n",
        "print('------')\n",
        "\n",
        "print()\n",
        "print('======================================')\n",
        "print()\n",
        "\n",
        "print('Test 02')\n",
        "st1 = Stack()\n",
        "st1.push(73)\n",
        "st1.push(85)\n",
        "st1.push(15)\n",
        "st1.push(41)\n",
        "print('Stack:')\n",
        "print_stack(st1)\n",
        "print('------')\n",
        "remove_block(st1,3)\n",
        "print('After Removal')\n",
        "print_stack(st1)\n",
        "print('------')\n",
        "\n",
        "print()\n",
        "print('======================================')\n",
        "print()"
      ]
    },
    {
      "cell_type": "markdown",
      "metadata": {
        "id": "jcngRuqUWOfl"
      },
      "source": [
        "Task 3: Stack Reverse"
      ]
    },
    {
      "cell_type": "code",
      "execution_count": null,
      "metadata": {
        "id": "gLSgfDKPWPnP"
      },
      "outputs": [
        {
          "name": "stdout",
          "output_type": "stream",
          "text": [
            "Test 01\n",
            "Stack:\n",
            "| 50 |\n",
            "| 10 |\n",
            "| 30 |\n",
            "| 20 |\n",
            "| 20 |\n",
            "| 10 |\n",
            "| 10 |\n",
            "------\n",
            "Conditional Reversed Stack:\n",
            "| 10 |\n",
            "| 10 |\n",
            "| 20 |\n",
            "| 20 |\n",
            "| 30 |\n",
            "| 10 |\n",
            "| 50 |\n",
            "------\n"
          ]
        }
      ],
      "source": [
        "def conditional_reverse(stack):\n",
        "    reversed_stack = Stack()\n",
        "    temp_stack = Stack()\n",
        "\n",
        "    while not stack.isEmpty():\n",
        "        current = stack.pop()\n",
        "        if not temp_stack.isEmpty() and temp_stack.peek() == current:\n",
        "            temp_stack.push(current)\n",
        "        else:\n",
        "            while not temp_stack.isEmpty():\n",
        "                reversed_stack.push(temp_stack.pop())\n",
        "            temp_stack.push(current)\n",
        "\n",
        "    while not temp_stack.isEmpty():\n",
        "        reversed_stack.push(temp_stack.pop())\n",
        "\n",
        "    return reversed_stack\n",
        "print('Test 01')\n",
        "st=Stack()\n",
        "st.push(10)\n",
        "st.push(10)\n",
        "st.push(20)\n",
        "st.push(20)\n",
        "st.push(30)\n",
        "st.push(10)\n",
        "st.push(50)\n",
        "print('Stack:')\n",
        "print_stack(st)\n",
        "print('------')\n",
        "reversed_stack=conditional_reverse(st)\n",
        "print('Conditional Reversed Stack:')\n",
        "print_stack(reversed_stack) # This stack contains 50, 10, 30, 20, 10 in this order whereas top element should be 10\n",
        "print('------')"
      ]
    },
    {
      "cell_type": "code",
      "execution_count": null,
      "metadata": {},
      "outputs": [],
      "source": []
    }
  ],
  "metadata": {
    "colab": {
      "provenance": []
    },
    "kernelspec": {
      "display_name": "Python 3",
      "name": "python3"
    },
    "language_info": {
      "codemirror_mode": {
        "name": "ipython",
        "version": 3
      },
      "file_extension": ".py",
      "mimetype": "text/x-python",
      "name": "python",
      "nbconvert_exporter": "python",
      "pygments_lexer": "ipython3",
      "version": "3.12.0"
    }
  },
  "nbformat": 4,
  "nbformat_minor": 0
}
